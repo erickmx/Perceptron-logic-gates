{
 "cells": [
  {
   "cell_type": "markdown",
   "metadata": {},
   "source": [
    "# Actividad 02 - El Perceptrón como compuerta lógica"
   ]
  },
  {
   "cell_type": "markdown",
   "metadata": {},
   "source": [
    "****Centro Universitario de Ciencias Exactas e Ingenierías****\\\n",
    "**Materia** Inteligencia artificial 2\\\n",
    "**Nombre:** Mejia Blanco Erick\\\n",
    "**Código:** 211408613"
   ]
  },
  {
   "cell_type": "markdown",
   "metadata": {},
   "source": [
    "### Modelo de McCulloch-Pitts  \n",
    "La neurona de McCulloch-Pitts es una unidad de cálculo que intenta modelar el comportamiento de una neurona \"natural\", similares a las que constituyen del cerebro humano. Ella es la unidad esencial con la cual se construye una red neuronal artificial. El resultado del cálculo en una neurona consiste en realizar una suma ponderada de las entradas, seguida de la aplicación de una función no lineal.\\\n",
    "El modelo neuronal de McCulloch y Pitts de 1943, Threshold Logic Unit (TLU), o Linear Threshold Unit, fue el primer modelo neuronal moderno, y ha servido de inspiración para el desarrollo de otros modelos neuronales. Sin embargo, en muchos de los estudios en que refieren a este modelo, no se interpreta correctamente el sentido que quisieron dar originalmente McCulloch y Pitts, atribuyéndole características o funciones que no fueron descritas por sus autores, o restándole importancia a la capacidad de procesamiento del modelo. Por otro lado, el modelo McCulloch-Pitts por sí mismo está retomando importancia debido a que es uno de los pocos modelos digitales en tiempo discreto y, como para realizar implantaciones electrónicas o computacionales de las neuronas artificiales en la actualidad se utilizan sistemas digitales, con la mayoría de los modelos analógicos actuales es necesario realizar ciertas adaptaciones a los modelos al momento de implantarlos, lo que dificulta y hace imprecisa dicha implantación con respecto al comportamiento teórico derivado del modelo.\\\n",
    "Usos de las neuronas:\n",
    "\n",
    "- Permite hacer funciones lógicas\n",
    "- Primera aproximación a las redes neuronales\n",
    "- Capacidad de computación universal (puede simular cualquier programa computable)"
   ]
  },
  {
   "cell_type": "markdown",
   "metadata": {},
   "source": [
    "### Algoritmo del Perceptrón\n",
    "En el campo de las Redes Neuronales, el perceptrón, creado por Frank Rosenblatt, se refiere a:\\\n",
    "La neurona artificial o unidad básica de inferencia en forma de discriminador lineal, a partir de lo cual se desarrolla un algoritmo capaz de generar un criterio para seleccionar un sub-grupo a partir de un grupo de componentes más grande.\\\n",
    "La limitación de este algoritmo es que si dibujamos en un gráfico estos elementos, se deben poder separar con un hiperplano únicamente los elementos \"deseados\" discriminándolos (separándolos) de los \"no deseados\".\\\n",
    "El perceptrón puede utilizarse con otros tipos de perceptrones o de neurona artificial, para formar una red neuronal artificial más compleja\\\n",
    "El modelo biológico más simple de un perceptrón es una neurona y viceversa. Es decir, el modelo matemático más simple de una neurona es un perceptrón. La neurona es una célula especializada y caracterizada por poseer una cantidad indefinida de canales de entrada llamados dendritas y un canal de salida llamado axón. Las dendritas operan como sensores que recogen información de la región donde se hallan y la derivan hacia el cuerpo de la neurona que reacciona mediante una sinapsis que envía una respuesta hacia el cerebro, esto en el caso de los seres vivos.\\\n",
    "Una neurona sola y aislada carece de razón de ser. Su labor especializada se torna valiosa en la medida en que se asocia a otras neuronas, formando una red. Normalmente, el axón de una neurona entrega su información como \"señal de entrada\" a una dendrita de otra neurona y así sucesivamente. El perceptrón que capta la señal en adelante se extiende formando una red de neuronas, sean éstas biológicas o de sustrato semiconductor (compuertas lógicas).\\\n",
    "El perceptrón usa una matriz para representar las redes neuronales y es un discriminador terciario que traza su entrada x (un vector binario) a un único valor de salida f(x) (un solo valor binario) a través de dicha matriz.\\\n",
    "En el perceptrón, existen dos tipos de aprendizaje, el primero utiliza una tasa de aprendizaje mientras que el segundo no la utiliza. Esta tasa de aprendizaje amortigua el cambio de los valores de los pesos."
   ]
  },
  {
   "cell_type": "markdown",
   "metadata": {},
   "source": [
    "### Implementación"
   ]
  },
  {
   "cell_type": "code",
   "execution_count": 33,
   "metadata": {},
   "outputs": [],
   "source": [
    "%matplotlib inline\n",
    "import numpy as np\n",
    "import matplotlib.pyplot as plt"
   ]
  },
  {
   "cell_type": "code",
   "execution_count": 34,
   "metadata": {},
   "outputs": [],
   "source": [
    "def perceptron(x, y, w, b, eta):\n",
    "    correct = 0\n",
    "    iters = 0\n",
    "    y_pred = 0\n",
    "    z = None\n",
    "    while correct is not 4 and iters < 500:\n",
    "        correct = 0\n",
    "        iters += 1\n",
    "        for i in range(4):\n",
    "            # Prediction\n",
    "            z = (w.conj().T @ x[:,i] + b).sum()\n",
    "            if z > 0:\n",
    "                y_pred = 1\n",
    "            else:\n",
    "                y_pred = 0\n",
    "            #training\n",
    "            if y[i] == y_pred:\n",
    "                correct += 1\n",
    "            else:\n",
    "                w = w + (eta * (y[i] - y_pred) * x[:, i].reshape(2,1))\n",
    "                b = b + eta * (y[i] - y_pred)\n",
    "    print('iteraciones', iters, 'correctos', correct)\n",
    "    return [w, b]\n"
   ]
  },
  {
   "cell_type": "markdown",
   "metadata": {},
   "source": [
    "### Compuerta AND"
   ]
  },
  {
   "cell_type": "code",
   "execution_count": 35,
   "metadata": {},
   "outputs": [
    {
     "data": {
      "text/plain": [
       "array([[0, 1, 0, 1],\n",
       "       [0, 0, 1, 1]])"
      ]
     },
     "execution_count": 35,
     "metadata": {},
     "output_type": "execute_result"
    }
   ],
   "source": [
    "# Training data\n",
    "x = np.array([\n",
    "    [0, 1, 0, 1],\n",
    "    [0, 0, 1, 1]\n",
    "])\n",
    "x"
   ]
  },
  {
   "cell_type": "code",
   "execution_count": 36,
   "metadata": {},
   "outputs": [
    {
     "data": {
      "text/plain": [
       "array([0, 0, 0, 1])"
      ]
     },
     "execution_count": 36,
     "metadata": {},
     "output_type": "execute_result"
    }
   ],
   "source": [
    "y = np.array([0, 0, 0, 1])\n",
    "y"
   ]
  },
  {
   "cell_type": "code",
   "execution_count": 37,
   "metadata": {},
   "outputs": [
    {
     "data": {
      "text/plain": [
       "array([[-0.52285179],\n",
       "       [ 0.28401554]])"
      ]
     },
     "execution_count": 37,
     "metadata": {},
     "output_type": "execute_result"
    }
   ],
   "source": [
    "# Model Parameters\n",
    "w = -1 + 2 * np.random.rand(2, 1)\n",
    "w"
   ]
  },
  {
   "cell_type": "code",
   "execution_count": 38,
   "metadata": {},
   "outputs": [
    {
     "data": {
      "text/plain": [
       "-0.8040998430772335"
      ]
     },
     "execution_count": 38,
     "metadata": {},
     "output_type": "execute_result"
    }
   ],
   "source": [
    "b = -1 + 2 * np.random.rand()\n",
    "b"
   ]
  },
  {
   "cell_type": "code",
   "execution_count": 39,
   "metadata": {},
   "outputs": [
    {
     "data": {
      "text/plain": [
       "0.5"
      ]
     },
     "execution_count": 39,
     "metadata": {},
     "output_type": "execute_result"
    }
   ],
   "source": [
    "eta = 0.5\n",
    "eta"
   ]
  },
  {
   "cell_type": "code",
   "execution_count": 40,
   "metadata": {},
   "outputs": [
    {
     "data": {
      "image/png": "[encoded data removed]",
      "text/plain": [
       "<Figure size 432x288 with 1 Axes>"
      ]
     },
     "metadata": {
      "needs_background": "light"
     },
     "output_type": "display_data"
    }
   ],
   "source": [
    "plt.title(\"Valores Iniciales\")\n",
    "plt.grid(True)\n",
    "plt.plot(x[0,0],x[1,0],'or')\n",
    "plt.plot(x[0,1], x[1,1],'or')\n",
    "plt.plot(x[0,2],x[1,2],'or')\n",
    "plt.plot(x[0,3],x[1,3],'^b')\n",
    "plt.plot([-2,3],[(-w[0]/w[1])*(-2)-(b/w[1]),(-w[0]/w[1])*(3)-(b/w[1])],'-m')\n",
    "plt.xlim(-2, 3)\n",
    "plt.ylim(-2, 3)\n",
    "plt.show()"
   ]
  },
  {
   "cell_type": "code",
   "execution_count": 41,
   "metadata": {},
   "outputs": [
    {
     "name": "stdout",
     "output_type": "stream",
     "text": [
      "iteraciones 7 correctos 4\n"
     ]
    }
   ],
   "source": [
    "w_res, b_res = perceptron(x,y,w,b,eta)"
   ]
  },
  {
   "cell_type": "code",
   "execution_count": 42,
   "metadata": {},
   "outputs": [
    {
     "data": {
      "image/png": "[encoded data removed]",
      "text/plain": [
       "<Figure size 432x288 with 1 Axes>"
      ]
     },
     "metadata": {
      "needs_background": "light"
     },
     "output_type": "display_data"
    }
   ],
   "source": [
    "plt.title(\"Resultado\")\n",
    "plt.grid(True)\n",
    "plt.plot(x[0,0],x[1,0],'or')\n",
    "plt.plot(x[0,1], x[1,1],'or')\n",
    "plt.plot(x[0,2],x[1,2],'or')\n",
    "plt.plot(x[0,3],x[1,3],'^b')\n",
    "plt.plot([-2,3],[\n",
    "    (-w_res[0]/w_res[1])*(-2)-(b_res/w_res[1]),\n",
    "    (-w_res[0]/w_res[1])*(3)-(b_res/w_res[1])\n",
    "],'-m')\n",
    "plt.xlim(-2, 3)\n",
    "plt.ylim(-2, 3)\n",
    "plt.show()"
   ]
  },
  {
   "cell_type": "code",
   "execution_count": 43,
   "metadata": {},
   "outputs": [
    {
     "data": {
      "text/plain": [
       "array([[0.47714821],\n",
       "       [1.28401554]])"
      ]
     },
     "execution_count": 43,
     "metadata": {},
     "output_type": "execute_result"
    }
   ],
   "source": [
    "w_res"
   ]
  },
  {
   "cell_type": "code",
   "execution_count": 44,
   "metadata": {},
   "outputs": [
    {
     "data": {
      "text/plain": [
       "-1.3040998430772335"
      ]
     },
     "execution_count": 44,
     "metadata": {},
     "output_type": "execute_result"
    }
   ],
   "source": [
    "b_res"
   ]
  },
  {
   "cell_type": "markdown",
   "metadata": {},
   "source": [
    "### Compuerta OR"
   ]
  },
  {
   "cell_type": "code",
   "execution_count": 45,
   "metadata": {},
   "outputs": [
    {
     "data": {
      "text/plain": [
       "array([[0, 1, 0, 1],\n",
       "       [0, 0, 1, 1]])"
      ]
     },
     "execution_count": 45,
     "metadata": {},
     "output_type": "execute_result"
    }
   ],
   "source": [
    "# Training data\n",
    "x = np.array([\n",
    "    [0, 1, 0, 1],\n",
    "    [0, 0, 1, 1]\n",
    "])\n",
    "x"
   ]
  },
  {
   "cell_type": "code",
   "execution_count": 46,
   "metadata": {},
   "outputs": [
    {
     "data": {
      "text/plain": [
       "array([0, 1, 1, 1])"
      ]
     },
     "execution_count": 46,
     "metadata": {},
     "output_type": "execute_result"
    }
   ],
   "source": [
    "y = np.array([0, 1, 1, 1])\n",
    "y"
   ]
  },
  {
   "cell_type": "code",
   "execution_count": 47,
   "metadata": {},
   "outputs": [
    {
     "data": {
      "text/plain": [
       "array([[-0.57890842],\n",
       "       [ 0.01817245]])"
      ]
     },
     "execution_count": 47,
     "metadata": {},
     "output_type": "execute_result"
    }
   ],
   "source": [
    "# Model Parameters\n",
    "w = -1 + 2 * np.random.rand(2, 1)\n",
    "w"
   ]
  },
  {
   "cell_type": "code",
   "execution_count": 48,
   "metadata": {},
   "outputs": [
    {
     "data": {
      "text/plain": [
       "0.035436383829738016"
      ]
     },
     "execution_count": 48,
     "metadata": {},
     "output_type": "execute_result"
    }
   ],
   "source": [
    "b = -1 + 2 * np.random.rand()\n",
    "b"
   ]
  },
  {
   "cell_type": "code",
   "execution_count": 49,
   "metadata": {},
   "outputs": [
    {
     "data": {
      "text/plain": [
       "0.5"
      ]
     },
     "execution_count": 49,
     "metadata": {},
     "output_type": "execute_result"
    }
   ],
   "source": [
    "eta = 0.5\n",
    "eta"
   ]
  },
  {
   "cell_type": "code",
   "execution_count": 50,
   "metadata": {},
   "outputs": [
    {
     "data": {
      "image/png": "[encoded data removed]",
      "text/plain": [
       "<Figure size 432x288 with 1 Axes>"
      ]
     },
     "metadata": {
      "needs_background": "light"
     },
     "output_type": "display_data"
    }
   ],
   "source": [
    "plt.title(\"Valores Iniciales\")\n",
    "plt.grid(True)\n",
    "plt.plot(x[0,0],x[1,0],'or')\n",
    "plt.plot(x[0,1], x[1,1],'^b')\n",
    "plt.plot(x[0,2],x[1,2],'^b')\n",
    "plt.plot(x[0,3],x[1,3],'^b')\n",
    "plt.plot([-2,3],[(-w[0]/w[1])*(-2)-(b/w[1]),(-w[0]/w[1])*(3)-(b/w[1])],'-m')\n",
    "plt.xlim(-2, 3)\n",
    "plt.ylim(-2, 3)\n",
    "plt.show()"
   ]
  },
  {
   "cell_type": "code",
   "execution_count": 51,
   "metadata": {},
   "outputs": [
    {
     "name": "stdout",
     "output_type": "stream",
     "text": [
      "iteraciones 5 correctos 4\n"
     ]
    }
   ],
   "source": [
    "w_res, b_res = perceptron(x,y,w,b,eta)"
   ]
  },
  {
   "cell_type": "code",
   "execution_count": 52,
   "metadata": {},
   "outputs": [
    {
     "data": {
      "image/png": "[encoded data removed]",
      "text/plain": [
       "<Figure size 432x288 with 1 Axes>"
      ]
     },
     "metadata": {
      "needs_background": "light"
     },
     "output_type": "display_data"
    }
   ],
   "source": [
    "plt.title(\"Resultado\")\n",
    "plt.grid(True)\n",
    "plt.plot(x[0,0],x[1,0],'or')\n",
    "plt.plot(x[0,1], x[1,1],'^b')\n",
    "plt.plot(x[0,2],x[1,2],'^b')\n",
    "plt.plot(x[0,3],x[1,3],'^b')\n",
    "plt.plot([-2,3],[\n",
    "    (-w_res[0]/w_res[1])*(-2)-(b_res/w_res[1]),\n",
    "    (-w_res[0]/w_res[1])*(3)-(b_res/w_res[1])\n",
    "],'-m')\n",
    "plt.xlim(-2, 3)\n",
    "plt.ylim(-2, 3)\n",
    "plt.show()"
   ]
  },
  {
   "cell_type": "code",
   "execution_count": 53,
   "metadata": {},
   "outputs": [
    {
     "data": {
      "text/plain": [
       "array([[0.92109158],\n",
       "       [0.51817245]])"
      ]
     },
     "execution_count": 53,
     "metadata": {},
     "output_type": "execute_result"
    }
   ],
   "source": [
    "w_res"
   ]
  },
  {
   "cell_type": "code",
   "execution_count": 54,
   "metadata": {},
   "outputs": [
    {
     "data": {
      "text/plain": [
       "-0.464563616170262"
      ]
     },
     "execution_count": 54,
     "metadata": {},
     "output_type": "execute_result"
    }
   ],
   "source": [
    "b_res"
   ]
  },
  {
   "cell_type": "markdown",
   "metadata": {},
   "source": [
    "### Compuerta XOR"
   ]
  },
  {
   "cell_type": "code",
   "execution_count": 55,
   "metadata": {},
   "outputs": [
    {
     "data": {
      "text/plain": [
       "array([[0, 1, 0, 1],\n",
       "       [0, 0, 1, 1]])"
      ]
     },
     "execution_count": 55,
     "metadata": {},
     "output_type": "execute_result"
    }
   ],
   "source": [
    "# Training data\n",
    "x = np.array([\n",
    "    [0, 1, 0, 1],\n",
    "    [0, 0, 1, 1]\n",
    "])\n",
    "x"
   ]
  },
  {
   "cell_type": "code",
   "execution_count": 56,
   "metadata": {},
   "outputs": [
    {
     "data": {
      "text/plain": [
       "array([0, 1, 1, 0])"
      ]
     },
     "execution_count": 56,
     "metadata": {},
     "output_type": "execute_result"
    }
   ],
   "source": [
    "y = np.array([0, 1, 1, 0])\n",
    "y"
   ]
  },
  {
   "cell_type": "code",
   "execution_count": 57,
   "metadata": {},
   "outputs": [
    {
     "data": {
      "text/plain": [
       "array([[0.60458742],\n",
       "       [0.62302067]])"
      ]
     },
     "execution_count": 57,
     "metadata": {},
     "output_type": "execute_result"
    }
   ],
   "source": [
    "# Model Parameters\n",
    "w = -1 + 2 * np.random.rand(2, 1)\n",
    "w"
   ]
  },
  {
   "cell_type": "code",
   "execution_count": 58,
   "metadata": {},
   "outputs": [
    {
     "data": {
      "text/plain": [
       "-0.9454407013073756"
      ]
     },
     "execution_count": 58,
     "metadata": {},
     "output_type": "execute_result"
    }
   ],
   "source": [
    "b = -1 + 2 * np.random.rand()\n",
    "b"
   ]
  },
  {
   "cell_type": "code",
   "execution_count": 59,
   "metadata": {},
   "outputs": [
    {
     "data": {
      "text/plain": [
       "0.5"
      ]
     },
     "execution_count": 59,
     "metadata": {},
     "output_type": "execute_result"
    }
   ],
   "source": [
    "eta = 0.5\n",
    "eta"
   ]
  },
  {
   "cell_type": "code",
   "execution_count": 60,
   "metadata": {},
   "outputs": [
    {
     "data": {
      "image/png": "[encoded data removed]",
      "text/plain": [
       "<Figure size 432x288 with 1 Axes>"
      ]
     },
     "metadata": {
      "needs_background": "light"
     },
     "output_type": "display_data"
    }
   ],
   "source": [
    "plt.title(\"Valores Iniciales\")\n",
    "plt.grid(True)\n",
    "plt.plot(x[0,0],x[1,0],'or')\n",
    "plt.plot(x[0,1], x[1,1],'^b')\n",
    "plt.plot(x[0,2],x[1,2],'^b')\n",
    "plt.plot(x[0,3],x[1,3],'or')\n",
    "plt.plot([-2,3],[(-w[0]/w[1])*(-2)-(b/w[1]),(-w[0]/w[1])*(3)-(b/w[1])],'-m')\n",
    "plt.xlim(-2, 3)\n",
    "plt.ylim(-2, 3)\n",
    "plt.show()"
   ]
  },
  {
   "cell_type": "code",
   "execution_count": 61,
   "metadata": {},
   "outputs": [
    {
     "name": "stdout",
     "output_type": "stream",
     "text": [
      "iteraciones 500 correctos 0\n"
     ]
    }
   ],
   "source": [
    "w_res, b_res = perceptron(x,y,w,b,eta)"
   ]
  },
  {
   "cell_type": "code",
   "execution_count": 62,
   "metadata": {},
   "outputs": [
    {
     "data": {
      "image/png": "[encoded data removed]",
      "text/plain": [
       "<Figure size 432x288 with 1 Axes>"
      ]
     },
     "metadata": {
      "needs_background": "light"
     },
     "output_type": "display_data"
    }
   ],
   "source": [
    "plt.title(\"Resultado\")\n",
    "plt.grid(True)\n",
    "plt.plot(x[0,0],x[1,0],'or')\n",
    "plt.plot(x[0,1], x[1,1],'^b')\n",
    "plt.plot(x[0,2],x[1,2],'^b')\n",
    "plt.plot(x[0,3],x[1,3],'or')\n",
    "plt.plot([-2,3],[\n",
    "    (-w_res[0]/w_res[1])*(-2)-(b_res/w_res[1]),\n",
    "    (-w_res[0]/w_res[1])*(3)-(b_res/w_res[1])\n",
    "],'-m')\n",
    "plt.xlim(-2, 3)\n",
    "plt.ylim(-2, 3)\n",
    "plt.show()"
   ]
  },
  {
   "cell_type": "code",
   "execution_count": 63,
   "metadata": {},
   "outputs": [
    {
     "data": {
      "text/plain": [
       "array([[ 0.10458742],\n",
       "       [-0.37697933]])"
      ]
     },
     "execution_count": 63,
     "metadata": {},
     "output_type": "execute_result"
    }
   ],
   "source": [
    "w_res"
   ]
  },
  {
   "cell_type": "code",
   "execution_count": 64,
   "metadata": {},
   "outputs": [
    {
     "data": {
      "text/plain": [
       "0.054559298692624436"
      ]
     },
     "execution_count": 64,
     "metadata": {},
     "output_type": "execute_result"
    }
   ],
   "source": [
    "b_res"
   ]
  },
  {
   "cell_type": "markdown",
   "metadata": {},
   "source": [
    "### ¿Por que la compuerta XOR no puede ser aprendida por este modelo?\n",
    "La función XOR no puede ser aprendida por un único perceptrón puesto que requiere al menos de dos líneas para separar las clases (0 y 1). Debe utilizarse al menos una capa adicional de perceptrones para permitir su aprendizaje."
   ]
  },
  {
   "cell_type": "markdown",
   "metadata": {},
   "source": [
    "### ¿Que importancia tiene el factor de aprendizaje?\n",
    "Bastante ya que gracias a el es como se puede saber que tanto va a necesitar reajustar sus valores para que el perceptron aprenda de la manera adecuada y se puedan obtener las mejores soluciones."
   ]
  }
 ],
 "metadata": {
  "kernelspec": {
   "display_name": "Python 3",
   "language": "python",
   "name": "python3"
  },
  "language_info": {
   "codemirror_mode": {
    "name": "ipython",
    "version": 3
   },
   "file_extension": ".py",
   "mimetype": "text/x-python",
   "name": "python",
   "nbconvert_exporter": "python",
   "pygments_lexer": "ipython3",
   "version": "3.7.3"
  }
 },
 "nbformat": 4,
 "nbformat_minor": 2
}
